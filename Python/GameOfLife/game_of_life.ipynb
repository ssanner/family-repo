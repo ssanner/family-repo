{
  "cells": [
    {
      "cell_type": "code",
      "execution_count": 4,
      "metadata": {
        "id": "H0WFvWOyky-6"
      },
      "outputs": [],
      "source": [
        "import numpy as np\n",
        "\n",
        "def life_step_1(X):\n",
        "    \"\"\"Game of life step using generator expressions\"\"\"\n",
        "    nbrs_count = sum(np.roll(np.roll(X, i, 0), j, 1)\n",
        "                     for i in (-1, 0, 1) for j in (-1, 0, 1)\n",
        "                     if (i != 0 or j != 0))\n",
        "    return (nbrs_count == 3) | (X & (nbrs_count == 2))\n",
        "\n",
        "def life_step_2(X):\n",
        "    \"\"\"Game of life step using scipy tools\"\"\"\n",
        "    from scipy.signal import convolve2d\n",
        "    nbrs_count = convolve2d(X, np.ones((3, 3)), mode='same', boundary='wrap') - X\n",
        "    return (nbrs_count == 3) | (X & (nbrs_count == 2))\n",
        "    \n",
        "life_step = life_step_1"
      ]
    },
    {
      "cell_type": "code",
      "execution_count": 5,
      "metadata": {
        "colab": {
          "base_uri": "https://localhost:8080/"
        },
        "id": "r1JrLcMklKZf",
        "outputId": "119442e7-9b55-4e60-b28a-271b58a0f377"
      },
      "outputs": [],
      "source": [
        "%matplotlib inline"
      ]
    },
    {
      "cell_type": "code",
      "execution_count": 6,
      "metadata": {
        "id": "Jd3lC9bOnWCE"
      },
      "outputs": [],
      "source": [
        "#!pip install JSAnimation"
      ]
    },
    {
      "cell_type": "code",
      "execution_count": 7,
      "metadata": {
        "id": "5nmFKBdPlXzM"
      },
      "outputs": [],
      "source": [
        "# JSAnimation import available at https://github.com/jakevdp/JSAnimation\n",
        "#from JSAnimation.IPython_display import display_animation, anim_to_html\n",
        "from matplotlib import pyplot as plt\n",
        "from matplotlib import animation\n",
        "from matplotlib.animation import FuncAnimation\n",
        "from IPython.display import HTML\n",
        "\n",
        "def life_animation(X, dpi=10, frames=10, interval=300, mode='loop'):\n",
        "    \"\"\"Produce a Game of Life Animation\n",
        "    \n",
        "    Parameters\n",
        "    ----------\n",
        "    X : array_like\n",
        "        a two-dimensional numpy array showing the game board\n",
        "    dpi : integer\n",
        "        the number of dots per inch in the resulting animation.\n",
        "        This controls the size of the game board on the screen\n",
        "    frames : integer\n",
        "        The number of frames to compute for the animation\n",
        "    interval : float\n",
        "        The time interval (in milliseconds) between frames\n",
        "    mode : string\n",
        "        The default mode of the animation.  Options are ['loop'|'once'|'reflect']\n",
        "    \"\"\"\n",
        "    X = np.asarray(X)\n",
        "    assert X.ndim == 2\n",
        "    X = X.astype(bool)\n",
        "    \n",
        "    X_blank = np.zeros_like(X)\n",
        "    figsize = (X.shape[1] * 1. / dpi, X.shape[0] * 1. / dpi)\n",
        "\n",
        "    fig = plt.figure(figsize=figsize, dpi=dpi)\n",
        "    fig.set_size_inches(18.5, 10.5)\n",
        "    ax = fig.add_axes([0, 0, 1, 1], xticks=[], yticks=[], frameon=False)\n",
        "    im = ax.imshow(X, cmap=plt.cm.binary, interpolation='nearest')\n",
        "    im.set_clim(-0.05, 1)  # Make background gray\n",
        "\n",
        "    # initialization function: plot the background of each frame\n",
        "    def init():\n",
        "        im.set_data(X_blank)\n",
        "        return (im,)\n",
        "\n",
        "    # animation function.  This is called sequentially\n",
        "    def animate(i):\n",
        "        im.set_data(animate.X)\n",
        "        animate.X = life_step(animate.X)\n",
        "        return (im,)\n",
        "    animate.X = X\n",
        "\n",
        "    anim = animation.FuncAnimation(fig, animate, init_func=init,\n",
        "                                   frames=frames, interval=interval)\n",
        "    \n",
        "    #print anim_to_html(anim)\n",
        "    #return display_animation(anim, default_mode=mode)\n",
        "    return HTML(anim.to_html5_video())"
      ]
    },
    {
      "cell_type": "code",
      "execution_count": 8,
      "metadata": {
        "colab": {
          "base_uri": "https://localhost:8080/",
          "height": 1000
        },
        "id": "LZOMSN9TlopN",
        "outputId": "f5cbeb15-a44c-4c5b-b791-895db93abd09"
      },
      "outputs": [
        {
          "ename": "NameError",
          "evalue": "name 'plt' is not defined",
          "output_type": "error",
          "traceback": [
            "\u001b[1;31m---------------------------------------------------------------------------\u001b[0m",
            "\u001b[1;31mNameError\u001b[0m                                 Traceback (most recent call last)",
            "Cell \u001b[1;32mIn[8], line 23\u001b[0m\n\u001b[0;32m     19\u001b[0m X \u001b[39m=\u001b[39m np\u001b[39m.\u001b[39marray(X)\n\u001b[0;32m     20\u001b[0m \u001b[39m#X.shape\u001b[39;00m\n\u001b[0;32m     21\u001b[0m \u001b[39m#r = np.random.random((10, 20))\u001b[39;00m\n\u001b[0;32m     22\u001b[0m \u001b[39m#X[10:20, 10:30] = (r > 0.75)\u001b[39;00m\n\u001b[1;32m---> 23\u001b[0m life_animation(X, dpi\u001b[39m=\u001b[39;49m\u001b[39m50\u001b[39;49m, frames\u001b[39m=\u001b[39;49m\u001b[39m1000\u001b[39;49m, mode\u001b[39m=\u001b[39;49m\u001b[39m'\u001b[39;49m\u001b[39monce\u001b[39;49m\u001b[39m'\u001b[39;49m, interval\u001b[39m=\u001b[39;49m\u001b[39m20\u001b[39;49m)\n",
            "Cell \u001b[1;32mIn[7], line 31\u001b[0m, in \u001b[0;36mlife_animation\u001b[1;34m(X, dpi, frames, interval, mode)\u001b[0m\n\u001b[0;32m     28\u001b[0m X_blank \u001b[39m=\u001b[39m np\u001b[39m.\u001b[39mzeros_like(X)\n\u001b[0;32m     29\u001b[0m figsize \u001b[39m=\u001b[39m (X\u001b[39m.\u001b[39mshape[\u001b[39m1\u001b[39m] \u001b[39m*\u001b[39m \u001b[39m1.\u001b[39m \u001b[39m/\u001b[39m dpi, X\u001b[39m.\u001b[39mshape[\u001b[39m0\u001b[39m] \u001b[39m*\u001b[39m \u001b[39m1.\u001b[39m \u001b[39m/\u001b[39m dpi)\n\u001b[1;32m---> 31\u001b[0m fig \u001b[39m=\u001b[39m plt\u001b[39m.\u001b[39mfigure(figsize\u001b[39m=\u001b[39mfigsize, dpi\u001b[39m=\u001b[39mdpi)\n\u001b[0;32m     32\u001b[0m fig\u001b[39m.\u001b[39mset_size_inches(\u001b[39m18.5\u001b[39m, \u001b[39m10.5\u001b[39m)\n\u001b[0;32m     33\u001b[0m ax \u001b[39m=\u001b[39m fig\u001b[39m.\u001b[39madd_axes([\u001b[39m0\u001b[39m, \u001b[39m0\u001b[39m, \u001b[39m1\u001b[39m, \u001b[39m1\u001b[39m], xticks\u001b[39m=\u001b[39m[], yticks\u001b[39m=\u001b[39m[], frameon\u001b[39m=\u001b[39m\u001b[39mFalse\u001b[39;00m)\n",
            "\u001b[1;31mNameError\u001b[0m: name 'plt' is not defined"
          ]
        }
      ],
      "source": [
        "# http://jakevdp.github.io/blog/2013/08/07/conways-game-of-life/\n",
        "np.random.seed(0)\n",
        "#X = np.zeros((30, 40), dtype=bool)\n",
        "X = np.zeros((100, 100))\n",
        "#X[1:4, 1:4] = [[0, 0, 1],\n",
        "#               [1, 0, 1],\n",
        "#               [0, 1, 1]]\n",
        "#X[48:51, 48:51] = [[0, 1, 1],\n",
        "#                   [1, 1, 0],\n",
        "#                   [0, 1, 0]]\n",
        "X[48:51, 48:55] = [[0, 1, 0, 0, 0, 0, 0],\n",
        "                   [0, 0, 0, 1, 0, 0, 0],\n",
        "                   [1, 1, 0, 0, 1, 1, 1]]\n",
        "#X = [[0, 0, 0, 0, 0],\n",
        "#     [0, 0, 1, 0, 0],\n",
        "#     [0, 0, 1, 0, 0],\n",
        "#     [0, 0, 1, 0, 0],\n",
        "#     [0, 0, 0, 0, 0]]\n",
        "X = np.array(X)\n",
        "#X.shape\n",
        "#r = np.random.random((10, 20))\n",
        "#X[10:20, 10:30] = (r > 0.75)\n",
        "life_animation(X, dpi=50, frames=1000, mode='once', interval=20)"
      ]
    },
    {
      "cell_type": "code",
      "execution_count": null,
      "metadata": {
        "id": "CSpoI6UdmY8Q"
      },
      "outputs": [
        {
          "ename": "",
          "evalue": "",
          "output_type": "error",
          "traceback": [
            "\u001b[1;31mnotebook controller is DISPOSED. \n",
            "\u001b[1;31mView Jupyter <a href='command:jupyter.viewOutput'>log</a> for further details."
          ]
        }
      ],
      "source": [
        "#!pip uninstall JSAnimation\n",
        "#!pip uninstall matplotlib -y"
      ]
    },
    {
      "cell_type": "code",
      "execution_count": null,
      "metadata": {
        "id": "hQkVIX2AmjJt"
      },
      "outputs": [
        {
          "ename": "",
          "evalue": "",
          "output_type": "error",
          "traceback": [
            "\u001b[1;31mnotebook controller is DISPOSED. \n",
            "\u001b[1;31mView Jupyter <a href='command:jupyter.viewOutput'>log</a> for further details."
          ]
        }
      ],
      "source": [
        "#!pip install matplotlib==1.3.0\n",
        "#pip install JSAnimation"
      ]
    },
    {
      "cell_type": "code",
      "execution_count": null,
      "metadata": {
        "id": "DZEUF2VLm6-w"
      },
      "outputs": [
        {
          "ename": "",
          "evalue": "",
          "output_type": "error",
          "traceback": [
            "\u001b[1;31mnotebook controller is DISPOSED. \n",
            "\u001b[1;31mView Jupyter <a href='command:jupyter.viewOutput'>log</a> for further details."
          ]
        }
      ],
      "source": [
        "#pip install matplotlib"
      ]
    },
    {
      "cell_type": "code",
      "execution_count": null,
      "metadata": {
        "id": "bd2YASRgnOWk"
      },
      "outputs": [
        {
          "ename": "",
          "evalue": "",
          "output_type": "error",
          "traceback": [
            "\u001b[1;31mnotebook controller is DISPOSED. \n",
            "\u001b[1;31mView Jupyter <a href='command:jupyter.viewOutput'>log</a> for further details."
          ]
        }
      ],
      "source": []
    }
  ],
  "metadata": {
    "colab": {
      "collapsed_sections": [],
      "name": "game of life.ipynb",
      "provenance": []
    },
    "kernelspec": {
      "display_name": "Python 3",
      "name": "python3"
    },
    "language_info": {
      "codemirror_mode": {
        "name": "ipython",
        "version": 3
      },
      "file_extension": ".py",
      "mimetype": "text/x-python",
      "name": "python",
      "nbconvert_exporter": "python",
      "pygments_lexer": "ipython3",
      "version": "3.11.3"
    }
  },
  "nbformat": 4,
  "nbformat_minor": 0
}
